{
 "cells": [
  {
   "cell_type": "code",
   "execution_count": 1,
   "id": "4dc74d1d",
   "metadata": {
    "collapsed": true
   },
   "outputs": [
    {
     "data": {
      "text/plain": [
       "(['Safexp-PointGoal0-v0',\n",
       "  'CostTerm/Safexp-PointGoal0-v0',\n",
       "  'IndCost/Safexp-PointGoal0-v0',\n",
       "  'ContCost/Safexp-PointGoal0-v0',\n",
       "  'Safexp-CarGoal0-v0',\n",
       "  'CostTerm/Safexp-CarGoal0-v0',\n",
       "  'IndCost/Safexp-CarGoal0-v0',\n",
       "  'ContCost/Safexp-CarGoal0-v0',\n",
       "  'Safexp-DoggoGoal0-v0',\n",
       "  'CostTerm/Safexp-DoggoGoal0-v0',\n",
       "  'IndCost/Safexp-DoggoGoal0-v0',\n",
       "  'ContCost/Safexp-DoggoGoal0-v0',\n",
       "  'Safexp-PointGoal1-v0',\n",
       "  'CostTerm/Safexp-PointGoal1-v0',\n",
       "  'IndCost/Safexp-PointGoal1-v0',\n",
       "  'ContCost/Safexp-PointGoal1-v0',\n",
       "  'Safexp-CarGoal1-v0',\n",
       "  'CostTerm/Safexp-CarGoal1-v0',\n",
       "  'IndCost/Safexp-CarGoal1-v0',\n",
       "  'ContCost/Safexp-CarGoal1-v0',\n",
       "  'Safexp-DoggoGoal1-v0',\n",
       "  'CostTerm/Safexp-DoggoGoal1-v0',\n",
       "  'IndCost/Safexp-DoggoGoal1-v0',\n",
       "  'ContCost/Safexp-DoggoGoal1-v0',\n",
       "  'Safexp-PointGoal2-v0',\n",
       "  'CostTerm/Safexp-PointGoal2-v0',\n",
       "  'IndCost/Safexp-PointGoal2-v0',\n",
       "  'ContCost/Safexp-PointGoal2-v0',\n",
       "  'Safexp-CarGoal2-v0',\n",
       "  'CostTerm/Safexp-CarGoal2-v0',\n",
       "  'IndCost/Safexp-CarGoal2-v0',\n",
       "  'ContCost/Safexp-CarGoal2-v0',\n",
       "  'Safexp-DoggoGoal2-v0',\n",
       "  'CostTerm/Safexp-DoggoGoal2-v0',\n",
       "  'IndCost/Safexp-DoggoGoal2-v0',\n",
       "  'ContCost/Safexp-DoggoGoal2-v0',\n",
       "  'Safexp-PointGoal0-img-v0',\n",
       "  'CostTerm/Safexp-PointGoal0-img-v0',\n",
       "  'IndCost/Safexp-PointGoal0-img-v0',\n",
       "  'ContCost/Safexp-PointGoal0-img-v0',\n",
       "  'Safexp-CarGoal0-img-v0',\n",
       "  'CostTerm/Safexp-CarGoal0-img-v0',\n",
       "  'IndCost/Safexp-CarGoal0-img-v0',\n",
       "  'ContCost/Safexp-CarGoal0-img-v0',\n",
       "  'Safexp-DoggoGoal0-img-v0',\n",
       "  'CostTerm/Safexp-DoggoGoal0-img-v0',\n",
       "  'IndCost/Safexp-DoggoGoal0-img-v0',\n",
       "  'ContCost/Safexp-DoggoGoal0-img-v0',\n",
       "  'Safexp-PointGoal1-img-v0',\n",
       "  'CostTerm/Safexp-PointGoal1-img-v0',\n",
       "  'IndCost/Safexp-PointGoal1-img-v0',\n",
       "  'ContCost/Safexp-PointGoal1-img-v0',\n",
       "  'Safexp-CarGoal1-img-v0',\n",
       "  'CostTerm/Safexp-CarGoal1-img-v0',\n",
       "  'IndCost/Safexp-CarGoal1-img-v0',\n",
       "  'ContCost/Safexp-CarGoal1-img-v0',\n",
       "  'Safexp-DoggoGoal1-img-v0',\n",
       "  'CostTerm/Safexp-DoggoGoal1-img-v0',\n",
       "  'IndCost/Safexp-DoggoGoal1-img-v0',\n",
       "  'ContCost/Safexp-DoggoGoal1-img-v0',\n",
       "  'Safexp-PointGoal2-img-v0',\n",
       "  'CostTerm/Safexp-PointGoal2-img-v0',\n",
       "  'IndCost/Safexp-PointGoal2-img-v0',\n",
       "  'ContCost/Safexp-PointGoal2-img-v0',\n",
       "  'Safexp-CarGoal2-img-v0',\n",
       "  'CostTerm/Safexp-CarGoal2-img-v0',\n",
       "  'IndCost/Safexp-CarGoal2-img-v0',\n",
       "  'ContCost/Safexp-CarGoal2-img-v0',\n",
       "  'Safexp-DoggoGoal2-img-v0',\n",
       "  'CostTerm/Safexp-DoggoGoal2-img-v0',\n",
       "  'IndCost/Safexp-DoggoGoal2-img-v0',\n",
       "  'ContCost/Safexp-DoggoGoal2-img-v0',\n",
       "  'Safexp-PointButton0-v0',\n",
       "  'CostTerm/Safexp-PointButton0-v0',\n",
       "  'IndCost/Safexp-PointButton0-v0',\n",
       "  'ContCost/Safexp-PointButton0-v0',\n",
       "  'Safexp-CarButton0-v0',\n",
       "  'CostTerm/Safexp-CarButton0-v0',\n",
       "  'IndCost/Safexp-CarButton0-v0',\n",
       "  'ContCost/Safexp-CarButton0-v0',\n",
       "  'Safexp-DoggoButton0-v0',\n",
       "  'CostTerm/Safexp-DoggoButton0-v0',\n",
       "  'IndCost/Safexp-DoggoButton0-v0',\n",
       "  'ContCost/Safexp-DoggoButton0-v0',\n",
       "  'Safexp-PointButton1-v0',\n",
       "  'CostTerm/Safexp-PointButton1-v0',\n",
       "  'IndCost/Safexp-PointButton1-v0',\n",
       "  'ContCost/Safexp-PointButton1-v0',\n",
       "  'Safexp-CarButton1-v0',\n",
       "  'CostTerm/Safexp-CarButton1-v0',\n",
       "  'IndCost/Safexp-CarButton1-v0',\n",
       "  'ContCost/Safexp-CarButton1-v0',\n",
       "  'Safexp-DoggoButton1-v0',\n",
       "  'CostTerm/Safexp-DoggoButton1-v0',\n",
       "  'IndCost/Safexp-DoggoButton1-v0',\n",
       "  'ContCost/Safexp-DoggoButton1-v0',\n",
       "  'Safexp-PointButton2-v0',\n",
       "  'CostTerm/Safexp-PointButton2-v0',\n",
       "  'IndCost/Safexp-PointButton2-v0',\n",
       "  'ContCost/Safexp-PointButton2-v0',\n",
       "  'Safexp-CarButton2-v0',\n",
       "  'CostTerm/Safexp-CarButton2-v0',\n",
       "  'IndCost/Safexp-CarButton2-v0',\n",
       "  'ContCost/Safexp-CarButton2-v0',\n",
       "  'Safexp-DoggoButton2-v0',\n",
       "  'CostTerm/Safexp-DoggoButton2-v0',\n",
       "  'IndCost/Safexp-DoggoButton2-v0',\n",
       "  'ContCost/Safexp-DoggoButton2-v0',\n",
       "  'Safexp-PointButton0-img-v0',\n",
       "  'CostTerm/Safexp-PointButton0-img-v0',\n",
       "  'IndCost/Safexp-PointButton0-img-v0',\n",
       "  'ContCost/Safexp-PointButton0-img-v0',\n",
       "  'Safexp-CarButton0-img-v0',\n",
       "  'CostTerm/Safexp-CarButton0-img-v0',\n",
       "  'IndCost/Safexp-CarButton0-img-v0',\n",
       "  'ContCost/Safexp-CarButton0-img-v0',\n",
       "  'Safexp-DoggoButton0-img-v0',\n",
       "  'CostTerm/Safexp-DoggoButton0-img-v0',\n",
       "  'IndCost/Safexp-DoggoButton0-img-v0',\n",
       "  'ContCost/Safexp-DoggoButton0-img-v0',\n",
       "  'Safexp-PointButton1-img-v0',\n",
       "  'CostTerm/Safexp-PointButton1-img-v0',\n",
       "  'IndCost/Safexp-PointButton1-img-v0',\n",
       "  'ContCost/Safexp-PointButton1-img-v0',\n",
       "  'Safexp-CarButton1-img-v0',\n",
       "  'CostTerm/Safexp-CarButton1-img-v0',\n",
       "  'IndCost/Safexp-CarButton1-img-v0',\n",
       "  'ContCost/Safexp-CarButton1-img-v0',\n",
       "  'Safexp-DoggoButton1-img-v0',\n",
       "  'CostTerm/Safexp-DoggoButton1-img-v0',\n",
       "  'IndCost/Safexp-DoggoButton1-img-v0',\n",
       "  'ContCost/Safexp-DoggoButton1-img-v0',\n",
       "  'Safexp-PointButton2-img-v0',\n",
       "  'CostTerm/Safexp-PointButton2-img-v0',\n",
       "  'IndCost/Safexp-PointButton2-img-v0',\n",
       "  'ContCost/Safexp-PointButton2-img-v0',\n",
       "  'Safexp-CarButton2-img-v0',\n",
       "  'CostTerm/Safexp-CarButton2-img-v0',\n",
       "  'IndCost/Safexp-CarButton2-img-v0',\n",
       "  'ContCost/Safexp-CarButton2-img-v0',\n",
       "  'Safexp-DoggoButton2-img-v0',\n",
       "  'CostTerm/Safexp-DoggoButton2-img-v0',\n",
       "  'IndCost/Safexp-DoggoButton2-img-v0',\n",
       "  'ContCost/Safexp-DoggoButton2-img-v0',\n",
       "  'Safexp-PointPush0-v0',\n",
       "  'CostTerm/Safexp-PointPush0-v0',\n",
       "  'IndCost/Safexp-PointPush0-v0',\n",
       "  'ContCost/Safexp-PointPush0-v0',\n",
       "  'Safexp-CarPush0-v0',\n",
       "  'CostTerm/Safexp-CarPush0-v0',\n",
       "  'IndCost/Safexp-CarPush0-v0',\n",
       "  'ContCost/Safexp-CarPush0-v0',\n",
       "  'Safexp-DoggoPush0-v0',\n",
       "  'CostTerm/Safexp-DoggoPush0-v0',\n",
       "  'IndCost/Safexp-DoggoPush0-v0',\n",
       "  'ContCost/Safexp-DoggoPush0-v0',\n",
       "  'Safexp-PointPush1-v0',\n",
       "  'CostTerm/Safexp-PointPush1-v0',\n",
       "  'IndCost/Safexp-PointPush1-v0',\n",
       "  'ContCost/Safexp-PointPush1-v0',\n",
       "  'Safexp-CarPush1-v0',\n",
       "  'CostTerm/Safexp-CarPush1-v0',\n",
       "  'IndCost/Safexp-CarPush1-v0',\n",
       "  'ContCost/Safexp-CarPush1-v0',\n",
       "  'Safexp-DoggoPush1-v0',\n",
       "  'CostTerm/Safexp-DoggoPush1-v0',\n",
       "  'IndCost/Safexp-DoggoPush1-v0',\n",
       "  'ContCost/Safexp-DoggoPush1-v0',\n",
       "  'Safexp-PointPush2-v0',\n",
       "  'CostTerm/Safexp-PointPush2-v0',\n",
       "  'IndCost/Safexp-PointPush2-v0',\n",
       "  'ContCost/Safexp-PointPush2-v0',\n",
       "  'Safexp-CarPush2-v0',\n",
       "  'CostTerm/Safexp-CarPush2-v0',\n",
       "  'IndCost/Safexp-CarPush2-v0',\n",
       "  'ContCost/Safexp-CarPush2-v0',\n",
       "  'Safexp-DoggoPush2-v0',\n",
       "  'CostTerm/Safexp-DoggoPush2-v0',\n",
       "  'IndCost/Safexp-DoggoPush2-v0',\n",
       "  'ContCost/Safexp-DoggoPush2-v0',\n",
       "  'Safexp-PointPush0-img-v0',\n",
       "  'CostTerm/Safexp-PointPush0-img-v0',\n",
       "  'IndCost/Safexp-PointPush0-img-v0',\n",
       "  'ContCost/Safexp-PointPush0-img-v0',\n",
       "  'Safexp-CarPush0-img-v0',\n",
       "  'CostTerm/Safexp-CarPush0-img-v0',\n",
       "  'IndCost/Safexp-CarPush0-img-v0',\n",
       "  'ContCost/Safexp-CarPush0-img-v0',\n",
       "  'Safexp-DoggoPush0-img-v0',\n",
       "  'CostTerm/Safexp-DoggoPush0-img-v0',\n",
       "  'IndCost/Safexp-DoggoPush0-img-v0',\n",
       "  'ContCost/Safexp-DoggoPush0-img-v0',\n",
       "  'Safexp-PointPush1-img-v0',\n",
       "  'CostTerm/Safexp-PointPush1-img-v0',\n",
       "  'IndCost/Safexp-PointPush1-img-v0',\n",
       "  'ContCost/Safexp-PointPush1-img-v0',\n",
       "  'Safexp-CarPush1-img-v0',\n",
       "  'CostTerm/Safexp-CarPush1-img-v0',\n",
       "  'IndCost/Safexp-CarPush1-img-v0',\n",
       "  'ContCost/Safexp-CarPush1-img-v0',\n",
       "  'Safexp-DoggoPush1-img-v0',\n",
       "  'CostTerm/Safexp-DoggoPush1-img-v0',\n",
       "  'IndCost/Safexp-DoggoPush1-img-v0',\n",
       "  'ContCost/Safexp-DoggoPush1-img-v0',\n",
       "  'Safexp-PointPush2-img-v0',\n",
       "  'CostTerm/Safexp-PointPush2-img-v0',\n",
       "  'IndCost/Safexp-PointPush2-img-v0',\n",
       "  'ContCost/Safexp-PointPush2-img-v0',\n",
       "  'Safexp-CarPush2-img-v0',\n",
       "  'CostTerm/Safexp-CarPush2-img-v0',\n",
       "  'IndCost/Safexp-CarPush2-img-v0',\n",
       "  'ContCost/Safexp-CarPush2-img-v0',\n",
       "  'Safexp-DoggoPush2-img-v0',\n",
       "  'CostTerm/Safexp-DoggoPush2-img-v0',\n",
       "  'IndCost/Safexp-DoggoPush2-img-v0',\n",
       "  'ContCost/Safexp-DoggoPush2-img-v0',\n",
       "  'Safexp-PointRun-v0',\n",
       "  'CostTerm/Safexp-PointRun-v0',\n",
       "  'IndCost/Safexp-PointRun-v0',\n",
       "  'ContCost/Safexp-PointRun-v0',\n",
       "  'Safexp-CarRun-v0',\n",
       "  'CostTerm/Safexp-CarRun-v0',\n",
       "  'IndCost/Safexp-CarRun-v0',\n",
       "  'ContCost/Safexp-CarRun-v0',\n",
       "  'Safexp-DoggoRun-v0',\n",
       "  'CostTerm/Safexp-DoggoRun-v0',\n",
       "  'IndCost/Safexp-DoggoRun-v0',\n",
       "  'ContCost/Safexp-DoggoRun-v0',\n",
       "  'Safexp-PointCircle-v0',\n",
       "  'CostTerm/Safexp-PointCircle-v0',\n",
       "  'IndCost/Safexp-PointCircle-v0',\n",
       "  'ContCost/Safexp-PointCircle-v0',\n",
       "  'Safexp-CarCircle-v0',\n",
       "  'CostTerm/Safexp-CarCircle-v0',\n",
       "  'IndCost/Safexp-CarCircle-v0',\n",
       "  'ContCost/Safexp-CarCircle-v0',\n",
       "  'Safexp-DoggoCircle-v0',\n",
       "  'CostTerm/Safexp-DoggoCircle-v0',\n",
       "  'IndCost/Safexp-DoggoCircle-v0',\n",
       "  'ContCost/Safexp-DoggoCircle-v0'],\n",
       " 240)"
      ]
     },
     "execution_count": 1,
     "metadata": {},
     "output_type": "execute_result"
    }
   ],
   "source": [
    "import gym\n",
    "import safety_gym\n",
    "safety_env_ids = [k.id for k in gym.envs.registry.all() if 'Safexp' in k.id]\n",
    "safety_env_ids, len(safety_env_ids)"
   ]
  },
  {
   "cell_type": "code",
   "execution_count": null,
   "id": "1301def1",
   "metadata": {},
   "outputs": [
    {
     "name": "stdout",
     "output_type": "stream",
     "text": [
      "Creating window glfw\n"
     ]
    }
   ],
   "source": [
    "env = gym.make('Humanoid-v3')\n",
    "env.reset()\n",
    "while True:\n",
    "    env.render(mode='human')"
   ]
  },
  {
   "cell_type": "code",
   "execution_count": 1,
   "id": "92375220",
   "metadata": {},
   "outputs": [
    {
     "name": "stdout",
     "output_type": "stream",
     "text": [
      "[-2, -2, 2, 2]\n"
     ]
    },
    {
     "data": {
      "text/plain": [
       "<matplotlib.image.AxesImage at 0x7fe3e9127c70>"
      ]
     },
     "execution_count": 1,
     "metadata": {},
     "output_type": "execute_result"
    },
    {
     "data": {
      "image/png": "[encoded data removed]",
      "text/plain": [
       "<Figure size 640x480 with 1 Axes>"
      ]
     },
     "metadata": {},
     "output_type": "display_data"
    }
   ],
   "source": [
    "import gym\n",
    "import safety_gym\n",
    "import matplotlib.pyplot as plt\n",
    "\n",
    "env = gym.make('Safexp-PointPush2-img-v0')\n",
    "env.floor_display_mode = True\n",
    "print(env.placements_extents)\n",
    "\n",
    "env.reset()\n",
    "plt.imshow(env.render('rgb_array', camera_id=0, width=84, height=84))"
   ]
  },
  {
   "cell_type": "code",
   "execution_count": null,
   "id": "db888958",
   "metadata": {},
   "outputs": [],
   "source": [
    "ContCost/Safexp-PointPush2-img-v0\n",
    "IndCost/Safexp-PointPush2-img-v0\n",
    "CostTerm/Safexp-PointPush2-img-v0"
   ]
  },
  {
   "cell_type": "code",
   "execution_count": 3,
   "id": "82f517b5",
   "metadata": {},
   "outputs": [
    {
     "data": {
      "text/plain": [
       "{'cost_pillars': 0.0, 'cost_hazards': 0.0, 'cost': 0.0}"
      ]
     },
     "execution_count": 3,
     "metadata": {},
     "output_type": "execute_result"
    }
   ],
   "source": [
    "env.cost()"
   ]
  },
  {
   "cell_type": "code",
   "execution_count": 1,
   "id": "9b78c1b7",
   "metadata": {},
   "outputs": [
    {
     "data": {
      "text/plain": [
       "0.0"
      ]
     },
     "execution_count": 1,
     "metadata": {},
     "output_type": "execute_result"
    }
   ],
   "source": [
    "import gym\n",
    "import safety_gym\n",
    "\n",
    "env = gym.make('Safexp-PointButton1-img-v0')\n",
    "#env.observe_vision = True\n",
    "env.reset()\n",
    "env.placements_margin"
   ]
  },
  {
   "cell_type": "code",
   "execution_count": 2,
   "id": "e3248204",
   "metadata": {},
   "outputs": [
    {
     "data": {
      "text/plain": [
       "<matplotlib.image.AxesImage at 0x7ff59c0755e0>"
      ]
     },
     "execution_count": 2,
     "metadata": {},
     "output_type": "execute_result"
    },
    {
     "data": {
      "image/png": "[encoded data removed]",
      "text/plain": [
       "<Figure size 640x480 with 1 Axes>"
      ]
     },
     "metadata": {},
     "output_type": "display_data"
    }
   ],
   "source": [
    "import matplotlib.pyplot as plt\n",
    "plt.imshow(env.obs()['image'])"
   ]
  },
  {
   "cell_type": "code",
   "execution_count": 10,
   "id": "1e8fb889",
   "metadata": {},
   "outputs": [
    {
     "data": {
      "text/plain": [
       "(Box(21168,),\n",
       " OrderedDict([('image', Box(84, 84, 3))]),\n",
       " ('fixedtopdown', 'fixednear', 'fixedfar', 'vision', 'track'))"
      ]
     },
     "execution_count": 10,
     "metadata": {},
     "output_type": "execute_result"
    }
   ],
   "source": [
    "env.observation_space, env.obs_space_dict, env.model.camera_names"
   ]
  },
  {
   "cell_type": "code",
   "execution_count": 2,
   "id": "f7ca9486",
   "metadata": {},
   "outputs": [
    {
     "data": {
      "text/plain": [
       "<matplotlib.image.AxesImage at 0x7f460bf79a90>"
      ]
     },
     "execution_count": 2,
     "metadata": {},
     "output_type": "execute_result"
    },
    {
     "data": {
      "image/png": "[encoded data removed]",
      "text/plain": [
       "<Figure size 640x480 with 1 Axes>"
      ]
     },
     "metadata": {},
     "output_type": "display_data"
    }
   ],
   "source": [
    "import matplotlib.pyplot as plt\n",
    "plt.imshow(env.obs_vision()[::-1])"
   ]
  },
  {
   "cell_type": "code",
   "execution_count": null,
   "id": "62e3d69b",
   "metadata": {},
   "outputs": [],
   "source": []
  },
  {
   "cell_type": "code",
   "execution_count": 1,
   "id": "a5de88ae",
   "metadata": {
    "code_folding": [
     5
    ]
   },
   "outputs": [
    {
     "name": "stdout",
     "output_type": "stream",
     "text": [
      "Action space: Box(2,)\n",
      "Creating window glfw\n",
      "Stopped simulation\n"
     ]
    }
   ],
   "source": [
    "import time\n",
    "import numpy as np\n",
    "import gym\n",
    "import safety_gym\n",
    "\n",
    "def create_keyboard_listener():\n",
    "    # List of used keys by MuJoCo viewer\n",
    "    #    https://github.com/openai/mujoco-py/blob/master/mujoco_py/mjviewer.py#L300\n",
    "    from pynput import keyboard\n",
    "    def on_press(key):\n",
    "        #print(f'{key} pressed {key.char}')\n",
    "        try:\n",
    "            if key.char == '/':\n",
    "                action[0] = 1.0\n",
    "            if key.char == '8':\n",
    "                action[0] = -1.0\n",
    "            if key.char == '9':\n",
    "                action[1] = 1.0\n",
    "            if key.char == '7':\n",
    "                action[1] = -1.0\n",
    "        except AttributeError:\n",
    "            #print(f'special key {key} pressed')\n",
    "            pass\n",
    "\n",
    "    def on_release(key):\n",
    "        if key == keyboard.Key.esc:\n",
    "            print(f'Stopped listener')\n",
    "            return False\n",
    "        try:\n",
    "            if key.char == '/' or key.char == '8':\n",
    "                action[0] = 0.0\n",
    "            if key.char == '9' or key.char == '7':\n",
    "                action[1] = 0.0\n",
    "        except AttributeError:\n",
    "            pass\n",
    "\n",
    "    # Collect events until releaseds\n",
    "    listener = keyboard.Listener(on_press=on_press, on_release=on_release)\n",
    "    listener.start()\n",
    "    #print('Test', listener)\n",
    "    return listener\n",
    "\n",
    "listener = create_keyboard_listener()\n",
    "\n",
    "env = gym.make('ContCost/Safexp-PointButton2-img-v0')\n",
    "env.floor_display_mode = True\n",
    "env.num_steps = 1e10\n",
    "env.reset()\n",
    "print(f'Action space: {env.action_space}')\n",
    "\n",
    "action = np.zeros(2)\n",
    "while True:\n",
    "    try:\n",
    "        env.step(action)\n",
    "        env.render(mode='human')#, render_cost_indicator=False)\n",
    "    except KeyboardInterrupt as e:\n",
    "        print('Stopped simulation')\n",
    "        listener.stop()\n",
    "        break"
   ]
  },
  {
   "cell_type": "code",
   "execution_count": 3,
   "id": "20a01df8",
   "metadata": {},
   "outputs": [
    {
     "data": {
      "text/plain": [
       "<matplotlib.image.AxesImage at 0x7f38f86a0550>"
      ]
     },
     "execution_count": 3,
     "metadata": {},
     "output_type": "execute_result"
    },
    {
     "data": {
      "image/png": "[encoded data removed]",
      "text/plain": [
       "<Figure size 640x480 with 1 Axes>"
      ]
     },
     "metadata": {},
     "output_type": "display_data"
    }
   ],
   "source": [
    "import matplotlib.pyplot as plt\n",
    "plt.imshow(env.obs()['image'])"
   ]
  },
  {
   "cell_type": "markdown",
   "id": "3daf53fc",
   "metadata": {},
   "source": [
    "## Saving env.sim state"
   ]
  },
  {
   "cell_type": "code",
   "execution_count": 2,
   "id": "247090a7",
   "metadata": {},
   "outputs": [],
   "source": [
    "import gym\n",
    "import safety_gym\n",
    "\n",
    "env = gym.make('Safexp-PointButton1-v0')\n",
    "env.floor_display_mode = True"
   ]
  },
  {
   "cell_type": "markdown",
   "id": "223d5bd1",
   "metadata": {},
   "source": [
    "You just do:\n",
    "`saved_state = env.sim.get_state()`\n",
    "Then to restore:\n",
    "`env.sim.set_state(saved_state)`"
   ]
  },
  {
   "cell_type": "code",
   "execution_count": 15,
   "id": "9d8f43ed",
   "metadata": {},
   "outputs": [
    {
     "data": {
      "text/plain": [
       "((31,), (27,), (59,))"
      ]
     },
     "execution_count": 15,
     "metadata": {},
     "output_type": "execute_result"
    }
   ],
   "source": [
    "state = env.sim.get_state()\n",
    "state.qpos.shape, state.qvel.shape, state.flatten().shape"
   ]
  },
  {
   "cell_type": "code",
   "execution_count": null,
   "id": "89d8fdab",
   "metadata": {},
   "outputs": [
    {
     "name": "stdout",
     "output_type": "stream",
     "text": [
      "Action space: Box(2,)\n",
      "Creating window glfw\n"
     ]
    }
   ],
   "source": [
    "import gym\n",
    "import safety_gym\n",
    "\n",
    "env = gym.make('Safexp-PointButton1-v0')\n",
    "env.floor_display_mode = True\n",
    "\n",
    "print(f'Action space: {env.action_space}')\n",
    "env.reset()\n",
    "while True:        \n",
    "    env.render(mode='human')\n",
    "    #print(env.viewer)"
   ]
  }
 ],
 "metadata": {
  "kernelspec": {
   "display_name": "Python 3 (ipykernel)",
   "language": "python",
   "name": "python3"
  },
  "language_info": {
   "codemirror_mode": {
    "name": "ipython",
    "version": 3
   },
   "file_extension": ".py",
   "mimetype": "text/x-python",
   "name": "python",
   "nbconvert_exporter": "python",
   "pygments_lexer": "ipython3",
   "version": "3.8.10"
  }
 },
 "nbformat": 4,
 "nbformat_minor": 5
}
